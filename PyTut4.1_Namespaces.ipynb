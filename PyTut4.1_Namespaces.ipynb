{
 "cells": [
  {
   "cell_type": "markdown",
   "metadata": {},
   "source": [
    "## Before continuing, please select menu option:  **Cell => All output => clear**"
   ]
  },
  {
   "cell_type": "code",
   "execution_count": null,
   "metadata": {},
   "outputs": [],
   "source": []
  },
  {
   "cell_type": "code",
   "execution_count": null,
   "metadata": {},
   "outputs": [],
   "source": []
  },
  {
   "cell_type": "code",
   "execution_count": null,
   "metadata": {},
   "outputs": [],
   "source": []
  },
  {
   "cell_type": "markdown",
   "metadata": {},
   "source": [
    "## Namespaces"
   ]
  },
  {
   "cell_type": "markdown",
   "metadata": {},
   "source": [
    "A namespace is a collection of currently defined symbolic names along with information about the object that each name references. You can think of a namespace as a dictionary in which the keys are the object names and the values are the objects themselves. Each key-value pair maps a name to its corresponding object.\n",
    "\n",
    "In a Python program, there are four types of namespaces:\n",
    "\n",
    "* Built-In\n",
    "* Global\n",
    "* Enclosing\n",
    "* Local\n",
    "\n",
    "When referencing 'x' the interpreter searches in the **LEGB** order: **L**ocal, **E**nclosing, **G**lobal, **B**uilt-in "
   ]
  },
  {
   "cell_type": "code",
   "execution_count": null,
   "metadata": {},
   "outputs": [],
   "source": [
    "dir(__builtins__) # These are available at all times when Python is running."
   ]
  },
  {
   "cell_type": "code",
   "execution_count": null,
   "metadata": {},
   "outputs": [],
   "source": [
    "# Functions local scopes:\n",
    "def square(base):\n",
    "    result = base ** 2\n",
    "    print(f'The square of {base} is: {result}')\n",
    "\n",
    "# Same local variables in the new function \n",
    "def cube(base):\n",
    "    result = base ** 3\n",
    "    print(f'The cube of {base} is: {result}')"
   ]
  },
  {
   "cell_type": "code",
   "execution_count": null,
   "metadata": {},
   "outputs": [],
   "source": [
    "# you cannot access names within the functions above\n",
    "result"
   ]
  },
  {
   "cell_type": "code",
   "execution_count": null,
   "metadata": {},
   "outputs": [],
   "source": [
    "base"
   ]
  },
  {
   "cell_type": "code",
   "execution_count": null,
   "metadata": {},
   "outputs": [],
   "source": [
    "# inspecting the __code__ attribute which holds information about the function\n",
    "print('varnames:', square.__code__.co_varnames)\n",
    "print('arg count:', square.__code__.co_argcount)\n",
    "print('constants:', square.__code__.co_consts)"
   ]
  },
  {
   "cell_type": "code",
   "execution_count": null,
   "metadata": {},
   "outputs": [],
   "source": []
  },
  {
   "cell_type": "code",
   "execution_count": null,
   "metadata": {},
   "outputs": [],
   "source": []
  },
  {
   "cell_type": "code",
   "execution_count": null,
   "metadata": {},
   "outputs": [],
   "source": [
    "# Example 1 single definition\n",
    "x = 'global'\n",
    "\n",
    "def f():\n",
    "    def g():\n",
    "\n",
    "        print(x)\n",
    "\n",
    "    g()\n",
    "\n",
    "f()"
   ]
  },
  {
   "cell_type": "code",
   "execution_count": null,
   "metadata": {},
   "outputs": [],
   "source": []
  },
  {
   "cell_type": "code",
   "execution_count": null,
   "metadata": {},
   "outputs": [],
   "source": [
    "# Example 2 double definition\n",
    "x = 'global'\n",
    "\n",
    "def f():\n",
    "    x = 'enclosing'\n",
    "\n",
    "    def g():\n",
    "        x = 'local'\n",
    "        print(x)\n",
    "\n",
    "    g()\n",
    "\n",
    "f()"
   ]
  },
  {
   "cell_type": "code",
   "execution_count": null,
   "metadata": {},
   "outputs": [],
   "source": []
  },
  {
   "cell_type": "code",
   "execution_count": null,
   "metadata": {},
   "outputs": [],
   "source": [
    "# Example 3 triple definition\n",
    "x = 'global'\n",
    "\n",
    "def f():\n",
    "    x = 'enclosing'\n",
    "\n",
    "    def g():\n",
    "        print(x)\n",
    "\n",
    "    g()\n",
    "\n",
    "f()"
   ]
  },
  {
   "cell_type": "code",
   "execution_count": null,
   "metadata": {},
   "outputs": [],
   "source": []
  },
  {
   "cell_type": "code",
   "execution_count": null,
   "metadata": {},
   "outputs": [],
   "source": [
    "# Example 4 no definition\n",
    "def f():\n",
    "    \n",
    "    def g():\n",
    "        print(not_in_any)\n",
    "        \n",
    "    g()\n",
    "    \n",
    "f()"
   ]
  },
  {
   "cell_type": "code",
   "execution_count": null,
   "metadata": {},
   "outputs": [],
   "source": []
  },
  {
   "cell_type": "code",
   "execution_count": null,
   "metadata": {},
   "outputs": [],
   "source": [
    "# The global keyword:\n",
    "x = 20\n",
    "\n",
    "print('x is', x)\n",
    "\n",
    "def f():\n",
    "    global x\n",
    "    x = 40\n",
    "    \n",
    "f()\n",
    "print('now x is', x)\n"
   ]
  },
  {
   "cell_type": "code",
   "execution_count": null,
   "metadata": {},
   "outputs": [],
   "source": [
    "# shows the global dictionary:\n",
    "globals()"
   ]
  },
  {
   "cell_type": "code",
   "execution_count": null,
   "metadata": {},
   "outputs": [],
   "source": [
    "# Equivilent modification of the globals dictionary (not reccomended)\n",
    "x = 20\n",
    "\n",
    "print('x is', x)\n",
    "\n",
    "def f():\n",
    "    globals()['x'] = 40  \n",
    "    \n",
    "f()\n",
    "print('now x is', x)"
   ]
  },
  {
   "cell_type": "code",
   "execution_count": null,
   "metadata": {},
   "outputs": [],
   "source": []
  },
  {
   "cell_type": "code",
   "execution_count": null,
   "metadata": {},
   "outputs": [],
   "source": [
    "try:\n",
    "    print(notdefined)\n",
    "except x:\n",
    "    print('ERROR:', x)\n",
    "    "
   ]
  },
  {
   "cell_type": "code",
   "execution_count": null,
   "metadata": {},
   "outputs": [],
   "source": []
  },
  {
   "cell_type": "code",
   "execution_count": null,
   "metadata": {},
   "outputs": [],
   "source": []
  },
  {
   "cell_type": "code",
   "execution_count": null,
   "metadata": {},
   "outputs": [],
   "source": []
  },
  {
   "cell_type": "code",
   "execution_count": null,
   "metadata": {},
   "outputs": [],
   "source": []
  },
  {
   "cell_type": "code",
   "execution_count": null,
   "metadata": {},
   "outputs": [],
   "source": [
    "# Scopes within namespaces:\n",
    "x = 'global'  # x is now defined within the module (global) namespace\n",
    "\n",
    "def func():\n",
    "    print('func start')\n",
    "    x = 'enclosing-1' # x is now defined within the local (enclosing) namespace of func\n",
    "    \n",
    "    def inner1():\n",
    "        print('inner1 start')\n",
    "#         global x  # try running a second time with this uncommented\n",
    "#         nonlocal x   # also try with nonlocal instead of global\n",
    "        x = 'enclosing-2' # x is now defined within the local namespace of inner1\n",
    "    \n",
    "        def inner2():\n",
    "            print('inner2 start')\n",
    "#             nonlocal x   # also try with nonlocal here\n",
    "            x = 'enclosing-3' # x is now defined within the local namespace of inner2\n",
    "            print('inner2 Scope:', x)\n",
    "            print('inner2 end:')\n",
    "        \n",
    "        # inner1 continues...\n",
    "        inner2()\n",
    "        print('inner1 Scope:', x)\n",
    "        print('inner1 end:', x)\n",
    "        \n",
    "    # func continues...\n",
    "    inner1()\n",
    "    print('func Scope:', x)\n",
    "    print('func end:', x)\n",
    "    \n",
    "func()\n",
    "print('global Scope:', x)"
   ]
  },
  {
   "cell_type": "code",
   "execution_count": null,
   "metadata": {},
   "outputs": [],
   "source": [
    "x"
   ]
  },
  {
   "cell_type": "code",
   "execution_count": null,
   "metadata": {},
   "outputs": [],
   "source": []
  },
  {
   "cell_type": "code",
   "execution_count": null,
   "metadata": {},
   "outputs": [],
   "source": [
    "y = 1  # y is now defined within the module namespace\n",
    "def f():\n",
    "    nonlocal y  # will not work because the scope above is not enclosed\n"
   ]
  },
  {
   "cell_type": "code",
   "execution_count": null,
   "metadata": {},
   "outputs": [],
   "source": []
  },
  {
   "cell_type": "code",
   "execution_count": null,
   "metadata": {},
   "outputs": [],
   "source": []
  },
  {
   "cell_type": "markdown",
   "metadata": {},
   "source": [
    "**Note**: Global names can be updated or modified from any place in your global Python scope. Beyond that, the global statement can be used to modify global names from almost any place in your code, as you’ll see in The global Statement.\n",
    "\n",
    "Modifying global names is generally considered bad programming practice because it can lead to code that is:\n",
    "\n",
    "- **Difficult to debug**: Almost any statement in the program can change the value of a global name.\n",
    "- **Hard to understand**: You need to be aware of all the statements that access and modify global names.\n",
    "- **Impossible to reuse**: The code is dependent on global names that are specific to a concrete program.\n",
    "\n",
    "Good programming practice recommends using local names rather than global names. Here are some tips:\n",
    "\n",
    "- **Write** self-contained functions that rely on local names rather than global ones.\n",
    "- **Try** to use unique objects names, no matter what scope you’re in.\n",
    "- **Avoid** global name modifications throughout your programs.\n",
    "- **Avoid** cross-module name modifications.\n",
    "- **Use** global names as constants that don’t change during your program’s execution."
   ]
  },
  {
   "cell_type": "code",
   "execution_count": null,
   "metadata": {},
   "outputs": [],
   "source": []
  },
  {
   "cell_type": "code",
   "execution_count": null,
   "metadata": {},
   "outputs": [],
   "source": []
  },
  {
   "cell_type": "markdown",
   "metadata": {},
   "source": [
    "Python scopes are implemented as dictionaries that map names to objects. These dictionaries are commonly called namespaces. These are the concrete mechanisms that Python uses to store names. They’re stored in a special attribute called `.__dict__.`"
   ]
  },
  {
   "cell_type": "code",
   "execution_count": null,
   "metadata": {},
   "outputs": [],
   "source": [
    "import sys\n",
    "sys.__dict__.keys()"
   ]
  },
  {
   "cell_type": "code",
   "execution_count": null,
   "metadata": {},
   "outputs": [],
   "source": [
    "# Access namespace names via dot notation:\n",
    "sys.ps1"
   ]
  },
  {
   "cell_type": "code",
   "execution_count": null,
   "metadata": {},
   "outputs": [],
   "source": [
    "# Or using the dunder dictionary:\n",
    "sys.__dict__['ps1']"
   ]
  },
  {
   "cell_type": "code",
   "execution_count": null,
   "metadata": {},
   "outputs": [],
   "source": []
  },
  {
   "cell_type": "code",
   "execution_count": null,
   "metadata": {},
   "outputs": [],
   "source": []
  },
  {
   "cell_type": "code",
   "execution_count": null,
   "metadata": {},
   "outputs": [],
   "source": []
  },
  {
   "cell_type": "markdown",
   "metadata": {},
   "source": [
    "## Debuging\n",
    "#### Don't use print statements! Unless you have to ☺ (prefer a debug output option)\n",
    "* Many IDE have built in debuggers.\n",
    "* Running a script from command line with the debugger:\n",
    "    `python -m pdb -c continue myscript.py`\n",
    "* Or put one of these into a script to break into pdb:\n",
    "    ```python\n",
    "    import pdb; pdb.set_trace()   # < python 3.7\n",
    "    breakpoint()  # Python 3.7+\n",
    "    ```\n",
    "#### PDB Quick Ref:\n",
    "* h(elp) [command] = help. \n",
    "* p(rint) <expr> = print expression.\n",
    "* pp <expr> = pretty-print expression (good for long lists etc).\n",
    "* l(ist) [first [,last] | .] = list lines or '.' for current position.  (\"l.\" is your friend)\n",
    "* ll = long list current function or frame.\n",
    "* n(ext) = execute until next.\n",
    "* s(tep) = execute and step into.\n",
    "* unt <line> = execuate up\n"
   ]
  },
  {
   "cell_type": "code",
   "execution_count": null,
   "metadata": {},
   "outputs": [],
   "source": []
  },
  {
   "cell_type": "code",
   "execution_count": null,
   "metadata": {},
   "outputs": [],
   "source": []
  },
  {
   "cell_type": "markdown",
   "metadata": {},
   "source": [
    "## Exercise:\n",
    "Go through the VScode python intro tutorial:\n",
    "https://code.visualstudio.com/docs/python/python-tutorial\n",
    "* Start at the section:\n",
    "    - \"Start VS Code in a project (workspace) folder\"\n"
   ]
  },
  {
   "cell_type": "code",
   "execution_count": null,
   "metadata": {},
   "outputs": [],
   "source": []
  },
  {
   "cell_type": "code",
   "execution_count": null,
   "metadata": {},
   "outputs": [],
   "source": []
  },
  {
   "cell_type": "markdown",
   "metadata": {},
   "source": [
    "# Move onto repo PyTutButty02 for an example of packages and namespaces"
   ]
  }
 ],
 "metadata": {
  "kernelspec": {
   "display_name": "Python 3",
   "language": "python",
   "name": "python3"
  },
  "language_info": {
   "codemirror_mode": {
    "name": "ipython",
    "version": 3
   },
   "file_extension": ".py",
   "mimetype": "text/x-python",
   "name": "python",
   "nbconvert_exporter": "python",
   "pygments_lexer": "ipython3",
   "version": "3.8.5"
  }
 },
 "nbformat": 4,
 "nbformat_minor": 2
}
